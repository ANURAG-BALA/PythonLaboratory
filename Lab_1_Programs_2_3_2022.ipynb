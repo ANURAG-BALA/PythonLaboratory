{
  "nbformat": 4,
  "nbformat_minor": 0,
  "metadata": {
    "colab": {
      "name": "Lab 1_Programs_2-3-2022.ipynb",
      "provenance": [],
      "authorship_tag": "ABX9TyMP6nAGgQC5fraiiZGBZERr",
      "include_colab_link": true
    },
    "kernelspec": {
      "name": "python3",
      "display_name": "Python 3"
    },
    "language_info": {
      "name": "python"
    }
  },
  "cells": [
    {
      "cell_type": "markdown",
      "metadata": {
        "id": "view-in-github",
        "colab_type": "text"
      },
      "source": [
        "<a href=\"https://colab.research.google.com/github/ANURAG-BALA/PythonLaboratory/blob/main/Lab_1_Programs_2_3_2022.ipynb\" target=\"_parent\"><img src=\"https://colab.research.google.com/assets/colab-badge.svg\" alt=\"Open In Colab\"/></a>"
      ]
    },
    {
      "cell_type": "code",
      "execution_count": 2,
      "metadata": {
        "colab": {
          "base_uri": "https://localhost:8080/"
        },
        "id": "HleShsGI2r3N",
        "outputId": "97e42871-3ed5-4b11-a8d9-67cb002b6dee"
      },
      "outputs": [
        {
          "output_type": "stream",
          "name": "stdout",
          "text": [
            "The Sum Of 1.5 and 6.3 is 7.8\n"
          ]
        }
      ],
      "source": [
        "num1 = 1.5\n",
        "num2 = 6.3\n",
        "sum = num1+num2\n",
        "print('The Sum Of {0} and {1} is {2}'.format(num1, num2, sum))"
      ]
    },
    {
      "cell_type": "code",
      "source": [
        "num1 = input('Enter First Number : ')\n",
        "num2 = input('Enter Second Number : ')\n",
        "sum = float(num1)+float(num2)\n",
        "print('The Sum Of {0} And {1} is {2}'.format(num1,num2,sum))"
      ],
      "metadata": {
        "colab": {
          "base_uri": "https://localhost:8080/"
        },
        "id": "7Amy9Bqe2oOV",
        "outputId": "5d23ae5d-bba3-4979-f341-4fa43571e4c5"
      },
      "execution_count": 9,
      "outputs": [
        {
          "output_type": "stream",
          "name": "stdout",
          "text": [
            "Enter First Number : 69\n",
            "Enter Second Number : 420\n",
            "The Sum Of 69 And 420 is 489.0\n"
          ]
        }
      ]
    },
    {
      "cell_type": "code",
      "source": [
        "num = 8\n",
        "num_sqrt = num ** 0.5\n",
        "print('Thye Square Root Of %0.3f is %0.3f'%(num , num_sqrt))"
      ],
      "metadata": {
        "colab": {
          "base_uri": "https://localhost:8080/"
        },
        "id": "5l2K9f904DoN",
        "outputId": "33b9da84-6f60-4b3f-94de-a63bfb06b69c"
      },
      "execution_count": 16,
      "outputs": [
        {
          "output_type": "stream",
          "name": "stdout",
          "text": [
            "Thye Square Root Of 8.000 is 2.828\n"
          ]
        }
      ]
    },
    {
      "cell_type": "code",
      "source": [
        "import cmath\n",
        "num = 1+2j\n",
        "num_sqrt = cmath.sqrt(num)\n",
        "print('The Square Root Of {0} is {1:0.3f}+{2:0.3f}j'.format(num,num_sqrt.real,num_sqrt.imag))"
      ],
      "metadata": {
        "colab": {
          "base_uri": "https://localhost:8080/"
        },
        "id": "TAsicasf5iyQ",
        "outputId": "55ed7bf0-20c9-446d-9227-36417d6ef353"
      },
      "execution_count": 10,
      "outputs": [
        {
          "output_type": "stream",
          "name": "stdout",
          "text": [
            "The Square Root Of (1+2j) is 1.272+0.786j\n"
          ]
        }
      ]
    },
    {
      "cell_type": "code",
      "source": [
        "a = 5\n",
        "b = 6\n",
        "c = 7\n",
        "s = (a+b+c) / 2\n",
        "area = (s*(s-a)*(s-b)*(s-c)) ** 0.5\n",
        "print(\"The Area Of The Traingle Is %0.2f\" %area)"
      ],
      "metadata": {
        "colab": {
          "base_uri": "https://localhost:8080/"
        },
        "id": "Z6lBJyXR6I3C",
        "outputId": "691d2eec-38d8-4a81-c8d8-37ecd722e660"
      },
      "execution_count": 11,
      "outputs": [
        {
          "output_type": "stream",
          "name": "stdout",
          "text": [
            "The Area Of The Traingle Is 14.70\n"
          ]
        }
      ]
    },
    {
      "cell_type": "code",
      "source": [
        "x = 5\n",
        "y = 10\n",
        "temp = x\n",
        "x = y\n",
        "y = temp\n",
        "print(\"The Value Of X After Swapping : {}\".format(x))\n",
        "print(\"The Value Of Y After Swapping : {}\".format(y))"
      ],
      "metadata": {
        "colab": {
          "base_uri": "https://localhost:8080/"
        },
        "id": "bNzpjrL879g6",
        "outputId": "6ba1b39d-1c2e-4022-f901-ec9b6ccfbbf6"
      },
      "execution_count": 12,
      "outputs": [
        {
          "output_type": "stream",
          "name": "stdout",
          "text": [
            "The Value Of X After Swapping : 10\n",
            "The Value Of Y After Swapping : 5\n"
          ]
        }
      ]
    },
    {
      "cell_type": "code",
      "source": [
        "website = \"anuragbala.github.io\"\n",
        "print(website)"
      ],
      "metadata": {
        "colab": {
          "base_uri": "https://localhost:8080/"
        },
        "id": "r-cajpkA-idJ",
        "outputId": "9061fa91-b2b6-4380-e096-1404201700b2"
      },
      "execution_count": 13,
      "outputs": [
        {
          "output_type": "stream",
          "name": "stdout",
          "text": [
            "anuragbala.github.io\n"
          ]
        }
      ]
    }
  ]
}